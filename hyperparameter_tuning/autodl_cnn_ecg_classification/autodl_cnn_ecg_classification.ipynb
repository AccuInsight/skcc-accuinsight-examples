{
 "cells": [
  {
   "cell_type": "markdown",
   "metadata": {},
   "source": [
    "# Accuinsight+ Modeler AutoDL tutorial\n",
    "## 심전도(ECG) 데이터를 분류하는 CNN 모델\n",
    "## 목차\n",
    "1. [분석 개요](#분석_개요)\n",
    "2. [데이터](#데이터)\n",
    "3. [CNN 모델 생성 및 학습](#CNN_모델_구성_및_학습)\n",
    "4. [학습 결과 시각화](#학습_결과_시각화)\n",
    "5. [Modeler AutoDL 사용방법](#AutoDL_사용방법)"
   ]
  },
  {
   "cell_type": "markdown",
   "metadata": {},
   "source": [
    "<a id='분석_개요'></a>\n",
    "## 분석 개요\n",
    "- 본 예제에서는 kaggle에서 제공하는 [심전도(ECG) 데이터](https://www.kaggle.com/shayanfazeli/heartbeat)를 사용하여 심장박동 패턴을 분류하는 CNN 모델을 만들고,  \n",
    "Accuinsight+ Modeler의 __AutoDL__ 기능을 사용하여 하이퍼파라미터를 최적화하는 과정을 설명합니다.\n",
    "- CNN 모델은 3개의 1D convolution layer와 2개의 fully-connected layer로 구성되어 있습니다.\n",
    "- 다음의 출처를 참고하여 코드를 재구성했습니다. ([출처](https://www.kaggle.com/gregoiredc/arrhythmia-on-ecg-classification-using-cnn))"
   ]
  },
  {
   "cell_type": "code",
   "execution_count": 86,
   "metadata": {},
   "outputs": [],
   "source": [
    "from tensorflow.keras.layers import Input, Dense, Convolution1D, MaxPool1D, Flatten, Dropout, BatchNormalization\n",
    "from tensorflow.keras.models import Model\n",
    "from tensorflow.keras.callbacks import EarlyStopping, ModelCheckpoint\n",
    "from tensorflow.keras.optimizers import Adam\n",
    "from tensorflow.keras.callbacks import Callback\n",
    "import tensorflow.keras as keras\n",
    "from keras.utils.np_utils import to_categorical\n",
    "\n",
    "from sklearn.metrics import classification_report\n",
    "from sklearn.model_selection import train_test_split\n",
    "from sklearn.metrics import f1_score\n",
    "from sklearn.metrics import confusion_matrix\n",
    "import pandas as pd\n",
    "import numpy as np\n",
    "import matplotlib.pyplot as plt\n",
    "import itertools\n",
    "import os\n",
    "import easydict"
   ]
  },
  {
   "cell_type": "markdown",
   "metadata": {},
   "source": [
    "<a id='데이터'></a>\n",
    "## 데이터\n",
    "- [CNN 모델 생성 및 학습](#CNN_모델_구성_및_학습) 챕터에서 train 데이터를 7:3 비율로 나누어 train, validation 데이터로 사용할 것입니다.\n",
    "- 데이터는 정상 클래스(N)와 4개의 부정맥 클래스(Q, V, S, F)로 구성되어 있으며, N 클래스의 빈도수가 압도적으로 높은 불균형 데이터입니다."
   ]
  },
  {
   "cell_type": "markdown",
   "metadata": {},
   "source": [
    "데이터를 불러옵니다."
   ]
  },
  {
   "cell_type": "code",
   "execution_count": 2,
   "metadata": {},
   "outputs": [],
   "source": [
    "train = pd.read_csv(\"data/mitbih_train.csv\", header=None)\n",
    "test = pd.read_csv(\"data/mitbih_test.csv\", header=None)"
   ]
  },
  {
   "cell_type": "code",
   "execution_count": 4,
   "metadata": {},
   "outputs": [],
   "source": [
    "train = train.rename({187:'class'}, axis='columns')\n",
    "test = test.rename({187:'class'}, axis='columns')"
   ]
  },
  {
   "cell_type": "markdown",
   "metadata": {},
   "source": [
    "데이터 개수를 확인합니다."
   ]
  },
  {
   "cell_type": "code",
   "execution_count": 3,
   "metadata": {
    "jupyter": {
     "source_hidden": true
    }
   },
   "outputs": [
    {
     "name": "stdout",
     "output_type": "stream",
     "text": [
      "총 데이터 개수:  109446\n",
      "train 데이터 개수:  87554\n",
      "test 데이터 개수:  21892\n"
     ]
    }
   ],
   "source": [
    "print(\"총 데이터 개수: \", len(train) + len(test))\n",
    "print(\"train 데이터 개수: \", len(train))\n",
    "print(\"test 데이터 개수: \", len(test))"
   ]
  },
  {
   "cell_type": "code",
   "execution_count": 69,
   "metadata": {},
   "outputs": [
    {
     "data": {
      "text/html": [
       "<div>\n",
       "<style scoped>\n",
       "    .dataframe tbody tr th:only-of-type {\n",
       "        vertical-align: middle;\n",
       "    }\n",
       "\n",
       "    .dataframe tbody tr th {\n",
       "        vertical-align: top;\n",
       "    }\n",
       "\n",
       "    .dataframe thead th {\n",
       "        text-align: right;\n",
       "    }\n",
       "</style>\n",
       "<table border=\"1\" class=\"dataframe\">\n",
       "  <thead>\n",
       "    <tr style=\"text-align: right;\">\n",
       "      <th></th>\n",
       "      <th>0</th>\n",
       "      <th>1</th>\n",
       "      <th>2</th>\n",
       "      <th>3</th>\n",
       "      <th>4</th>\n",
       "      <th>5</th>\n",
       "      <th>6</th>\n",
       "      <th>7</th>\n",
       "      <th>8</th>\n",
       "      <th>9</th>\n",
       "      <th>...</th>\n",
       "      <th>178</th>\n",
       "      <th>179</th>\n",
       "      <th>180</th>\n",
       "      <th>181</th>\n",
       "      <th>182</th>\n",
       "      <th>183</th>\n",
       "      <th>184</th>\n",
       "      <th>185</th>\n",
       "      <th>186</th>\n",
       "      <th>class</th>\n",
       "    </tr>\n",
       "  </thead>\n",
       "  <tbody>\n",
       "    <tr>\n",
       "      <td>0</td>\n",
       "      <td>0.977941</td>\n",
       "      <td>0.926471</td>\n",
       "      <td>0.681373</td>\n",
       "      <td>0.245098</td>\n",
       "      <td>0.154412</td>\n",
       "      <td>0.191176</td>\n",
       "      <td>0.151961</td>\n",
       "      <td>0.085784</td>\n",
       "      <td>0.058824</td>\n",
       "      <td>0.049020</td>\n",
       "      <td>...</td>\n",
       "      <td>0.0</td>\n",
       "      <td>0.0</td>\n",
       "      <td>0.0</td>\n",
       "      <td>0.0</td>\n",
       "      <td>0.0</td>\n",
       "      <td>0.0</td>\n",
       "      <td>0.0</td>\n",
       "      <td>0.0</td>\n",
       "      <td>0.0</td>\n",
       "      <td>0.0</td>\n",
       "    </tr>\n",
       "    <tr>\n",
       "      <td>1</td>\n",
       "      <td>0.960114</td>\n",
       "      <td>0.863248</td>\n",
       "      <td>0.461538</td>\n",
       "      <td>0.196581</td>\n",
       "      <td>0.094017</td>\n",
       "      <td>0.125356</td>\n",
       "      <td>0.099715</td>\n",
       "      <td>0.088319</td>\n",
       "      <td>0.074074</td>\n",
       "      <td>0.082621</td>\n",
       "      <td>...</td>\n",
       "      <td>0.0</td>\n",
       "      <td>0.0</td>\n",
       "      <td>0.0</td>\n",
       "      <td>0.0</td>\n",
       "      <td>0.0</td>\n",
       "      <td>0.0</td>\n",
       "      <td>0.0</td>\n",
       "      <td>0.0</td>\n",
       "      <td>0.0</td>\n",
       "      <td>0.0</td>\n",
       "    </tr>\n",
       "    <tr>\n",
       "      <td>2</td>\n",
       "      <td>1.000000</td>\n",
       "      <td>0.659459</td>\n",
       "      <td>0.186486</td>\n",
       "      <td>0.070270</td>\n",
       "      <td>0.070270</td>\n",
       "      <td>0.059459</td>\n",
       "      <td>0.056757</td>\n",
       "      <td>0.043243</td>\n",
       "      <td>0.054054</td>\n",
       "      <td>0.045946</td>\n",
       "      <td>...</td>\n",
       "      <td>0.0</td>\n",
       "      <td>0.0</td>\n",
       "      <td>0.0</td>\n",
       "      <td>0.0</td>\n",
       "      <td>0.0</td>\n",
       "      <td>0.0</td>\n",
       "      <td>0.0</td>\n",
       "      <td>0.0</td>\n",
       "      <td>0.0</td>\n",
       "      <td>0.0</td>\n",
       "    </tr>\n",
       "    <tr>\n",
       "      <td>3</td>\n",
       "      <td>0.925414</td>\n",
       "      <td>0.665746</td>\n",
       "      <td>0.541436</td>\n",
       "      <td>0.276243</td>\n",
       "      <td>0.196133</td>\n",
       "      <td>0.077348</td>\n",
       "      <td>0.071823</td>\n",
       "      <td>0.060773</td>\n",
       "      <td>0.066298</td>\n",
       "      <td>0.058011</td>\n",
       "      <td>...</td>\n",
       "      <td>0.0</td>\n",
       "      <td>0.0</td>\n",
       "      <td>0.0</td>\n",
       "      <td>0.0</td>\n",
       "      <td>0.0</td>\n",
       "      <td>0.0</td>\n",
       "      <td>0.0</td>\n",
       "      <td>0.0</td>\n",
       "      <td>0.0</td>\n",
       "      <td>0.0</td>\n",
       "    </tr>\n",
       "    <tr>\n",
       "      <td>4</td>\n",
       "      <td>0.967136</td>\n",
       "      <td>1.000000</td>\n",
       "      <td>0.830986</td>\n",
       "      <td>0.586854</td>\n",
       "      <td>0.356808</td>\n",
       "      <td>0.248826</td>\n",
       "      <td>0.145540</td>\n",
       "      <td>0.089202</td>\n",
       "      <td>0.117371</td>\n",
       "      <td>0.150235</td>\n",
       "      <td>...</td>\n",
       "      <td>0.0</td>\n",
       "      <td>0.0</td>\n",
       "      <td>0.0</td>\n",
       "      <td>0.0</td>\n",
       "      <td>0.0</td>\n",
       "      <td>0.0</td>\n",
       "      <td>0.0</td>\n",
       "      <td>0.0</td>\n",
       "      <td>0.0</td>\n",
       "      <td>0.0</td>\n",
       "    </tr>\n",
       "  </tbody>\n",
       "</table>\n",
       "<p>5 rows × 188 columns</p>\n",
       "</div>"
      ],
      "text/plain": [
       "          0         1         2         3         4         5         6  \\\n",
       "0  0.977941  0.926471  0.681373  0.245098  0.154412  0.191176  0.151961   \n",
       "1  0.960114  0.863248  0.461538  0.196581  0.094017  0.125356  0.099715   \n",
       "2  1.000000  0.659459  0.186486  0.070270  0.070270  0.059459  0.056757   \n",
       "3  0.925414  0.665746  0.541436  0.276243  0.196133  0.077348  0.071823   \n",
       "4  0.967136  1.000000  0.830986  0.586854  0.356808  0.248826  0.145540   \n",
       "\n",
       "          7         8         9  ...  178  179  180  181  182  183  184  185  \\\n",
       "0  0.085784  0.058824  0.049020  ...  0.0  0.0  0.0  0.0  0.0  0.0  0.0  0.0   \n",
       "1  0.088319  0.074074  0.082621  ...  0.0  0.0  0.0  0.0  0.0  0.0  0.0  0.0   \n",
       "2  0.043243  0.054054  0.045946  ...  0.0  0.0  0.0  0.0  0.0  0.0  0.0  0.0   \n",
       "3  0.060773  0.066298  0.058011  ...  0.0  0.0  0.0  0.0  0.0  0.0  0.0  0.0   \n",
       "4  0.089202  0.117371  0.150235  ...  0.0  0.0  0.0  0.0  0.0  0.0  0.0  0.0   \n",
       "\n",
       "   186  class  \n",
       "0  0.0    0.0  \n",
       "1  0.0    0.0  \n",
       "2  0.0    0.0  \n",
       "3  0.0    0.0  \n",
       "4  0.0    0.0  \n",
       "\n",
       "[5 rows x 188 columns]"
      ]
     },
     "execution_count": 69,
     "metadata": {},
     "output_type": "execute_result"
    }
   ],
   "source": [
    "train.head()"
   ]
  },
  {
   "cell_type": "code",
   "execution_count": 6,
   "metadata": {},
   "outputs": [
    {
     "data": {
      "text/html": [
       "<div>\n",
       "<style scoped>\n",
       "    .dataframe tbody tr th:only-of-type {\n",
       "        vertical-align: middle;\n",
       "    }\n",
       "\n",
       "    .dataframe tbody tr th {\n",
       "        vertical-align: top;\n",
       "    }\n",
       "\n",
       "    .dataframe thead th {\n",
       "        text-align: right;\n",
       "    }\n",
       "</style>\n",
       "<table border=\"1\" class=\"dataframe\">\n",
       "  <thead>\n",
       "    <tr style=\"text-align: right;\">\n",
       "      <th></th>\n",
       "      <th>0</th>\n",
       "      <th>1</th>\n",
       "      <th>2</th>\n",
       "      <th>3</th>\n",
       "      <th>4</th>\n",
       "      <th>5</th>\n",
       "      <th>6</th>\n",
       "      <th>7</th>\n",
       "      <th>8</th>\n",
       "      <th>9</th>\n",
       "      <th>...</th>\n",
       "      <th>178</th>\n",
       "      <th>179</th>\n",
       "      <th>180</th>\n",
       "      <th>181</th>\n",
       "      <th>182</th>\n",
       "      <th>183</th>\n",
       "      <th>184</th>\n",
       "      <th>185</th>\n",
       "      <th>186</th>\n",
       "      <th>class</th>\n",
       "    </tr>\n",
       "  </thead>\n",
       "  <tbody>\n",
       "    <tr>\n",
       "      <td>0</td>\n",
       "      <td>1.000000</td>\n",
       "      <td>0.758264</td>\n",
       "      <td>0.111570</td>\n",
       "      <td>0.000000</td>\n",
       "      <td>0.080579</td>\n",
       "      <td>0.078512</td>\n",
       "      <td>0.066116</td>\n",
       "      <td>0.049587</td>\n",
       "      <td>0.047521</td>\n",
       "      <td>0.035124</td>\n",
       "      <td>...</td>\n",
       "      <td>0.0</td>\n",
       "      <td>0.0</td>\n",
       "      <td>0.0</td>\n",
       "      <td>0.0</td>\n",
       "      <td>0.0</td>\n",
       "      <td>0.0</td>\n",
       "      <td>0.0</td>\n",
       "      <td>0.0</td>\n",
       "      <td>0.0</td>\n",
       "      <td>0.0</td>\n",
       "    </tr>\n",
       "    <tr>\n",
       "      <td>1</td>\n",
       "      <td>0.908425</td>\n",
       "      <td>0.783883</td>\n",
       "      <td>0.531136</td>\n",
       "      <td>0.362637</td>\n",
       "      <td>0.366300</td>\n",
       "      <td>0.344322</td>\n",
       "      <td>0.333333</td>\n",
       "      <td>0.307692</td>\n",
       "      <td>0.296703</td>\n",
       "      <td>0.300366</td>\n",
       "      <td>...</td>\n",
       "      <td>0.0</td>\n",
       "      <td>0.0</td>\n",
       "      <td>0.0</td>\n",
       "      <td>0.0</td>\n",
       "      <td>0.0</td>\n",
       "      <td>0.0</td>\n",
       "      <td>0.0</td>\n",
       "      <td>0.0</td>\n",
       "      <td>0.0</td>\n",
       "      <td>0.0</td>\n",
       "    </tr>\n",
       "    <tr>\n",
       "      <td>2</td>\n",
       "      <td>0.730088</td>\n",
       "      <td>0.212389</td>\n",
       "      <td>0.000000</td>\n",
       "      <td>0.119469</td>\n",
       "      <td>0.101770</td>\n",
       "      <td>0.101770</td>\n",
       "      <td>0.110619</td>\n",
       "      <td>0.123894</td>\n",
       "      <td>0.115044</td>\n",
       "      <td>0.132743</td>\n",
       "      <td>...</td>\n",
       "      <td>0.0</td>\n",
       "      <td>0.0</td>\n",
       "      <td>0.0</td>\n",
       "      <td>0.0</td>\n",
       "      <td>0.0</td>\n",
       "      <td>0.0</td>\n",
       "      <td>0.0</td>\n",
       "      <td>0.0</td>\n",
       "      <td>0.0</td>\n",
       "      <td>0.0</td>\n",
       "    </tr>\n",
       "    <tr>\n",
       "      <td>3</td>\n",
       "      <td>1.000000</td>\n",
       "      <td>0.910417</td>\n",
       "      <td>0.681250</td>\n",
       "      <td>0.472917</td>\n",
       "      <td>0.229167</td>\n",
       "      <td>0.068750</td>\n",
       "      <td>0.000000</td>\n",
       "      <td>0.004167</td>\n",
       "      <td>0.014583</td>\n",
       "      <td>0.054167</td>\n",
       "      <td>...</td>\n",
       "      <td>0.0</td>\n",
       "      <td>0.0</td>\n",
       "      <td>0.0</td>\n",
       "      <td>0.0</td>\n",
       "      <td>0.0</td>\n",
       "      <td>0.0</td>\n",
       "      <td>0.0</td>\n",
       "      <td>0.0</td>\n",
       "      <td>0.0</td>\n",
       "      <td>0.0</td>\n",
       "    </tr>\n",
       "    <tr>\n",
       "      <td>4</td>\n",
       "      <td>0.570470</td>\n",
       "      <td>0.399329</td>\n",
       "      <td>0.238255</td>\n",
       "      <td>0.147651</td>\n",
       "      <td>0.000000</td>\n",
       "      <td>0.003356</td>\n",
       "      <td>0.040268</td>\n",
       "      <td>0.080537</td>\n",
       "      <td>0.070470</td>\n",
       "      <td>0.090604</td>\n",
       "      <td>...</td>\n",
       "      <td>0.0</td>\n",
       "      <td>0.0</td>\n",
       "      <td>0.0</td>\n",
       "      <td>0.0</td>\n",
       "      <td>0.0</td>\n",
       "      <td>0.0</td>\n",
       "      <td>0.0</td>\n",
       "      <td>0.0</td>\n",
       "      <td>0.0</td>\n",
       "      <td>0.0</td>\n",
       "    </tr>\n",
       "  </tbody>\n",
       "</table>\n",
       "<p>5 rows × 188 columns</p>\n",
       "</div>"
      ],
      "text/plain": [
       "          0         1         2         3         4         5         6  \\\n",
       "0  1.000000  0.758264  0.111570  0.000000  0.080579  0.078512  0.066116   \n",
       "1  0.908425  0.783883  0.531136  0.362637  0.366300  0.344322  0.333333   \n",
       "2  0.730088  0.212389  0.000000  0.119469  0.101770  0.101770  0.110619   \n",
       "3  1.000000  0.910417  0.681250  0.472917  0.229167  0.068750  0.000000   \n",
       "4  0.570470  0.399329  0.238255  0.147651  0.000000  0.003356  0.040268   \n",
       "\n",
       "          7         8         9  ...  178  179  180  181  182  183  184  185  \\\n",
       "0  0.049587  0.047521  0.035124  ...  0.0  0.0  0.0  0.0  0.0  0.0  0.0  0.0   \n",
       "1  0.307692  0.296703  0.300366  ...  0.0  0.0  0.0  0.0  0.0  0.0  0.0  0.0   \n",
       "2  0.123894  0.115044  0.132743  ...  0.0  0.0  0.0  0.0  0.0  0.0  0.0  0.0   \n",
       "3  0.004167  0.014583  0.054167  ...  0.0  0.0  0.0  0.0  0.0  0.0  0.0  0.0   \n",
       "4  0.080537  0.070470  0.090604  ...  0.0  0.0  0.0  0.0  0.0  0.0  0.0  0.0   \n",
       "\n",
       "   186  class  \n",
       "0  0.0    0.0  \n",
       "1  0.0    0.0  \n",
       "2  0.0    0.0  \n",
       "3  0.0    0.0  \n",
       "4  0.0    0.0  \n",
       "\n",
       "[5 rows x 188 columns]"
      ]
     },
     "execution_count": 6,
     "metadata": {},
     "output_type": "execute_result"
    }
   ],
   "source": [
    "test.head()"
   ]
  },
  {
   "cell_type": "markdown",
   "metadata": {},
   "source": [
    "모델 입력 전 train 데이터의 순서를 랜덤하게 섞습니다."
   ]
  },
  {
   "cell_type": "code",
   "execution_count": 70,
   "metadata": {},
   "outputs": [],
   "source": [
    "train=train.sample(frac=1).reset_index(drop=True)"
   ]
  },
  {
   "cell_type": "markdown",
   "metadata": {},
   "source": [
    "class별 빈도수를 확인합니다. 부정맥 클래스(Q, V, S, F)에 비해 정상 정상 클래스(N)의 비율이 매우 높은 것을 확인할 수 있습니다."
   ]
  },
  {
   "cell_type": "code",
   "execution_count": 7,
   "metadata": {
    "jupyter": {
     "source_hidden": true
    }
   },
   "outputs": [
    {
     "data": {
      "image/png": "[encoded data removed]",
      "text/plain": [
       "<Figure size 432x288 with 1 Axes>"
      ]
     },
     "metadata": {
      "needs_background": "light"
     },
     "output_type": "display_data"
    }
   ],
   "source": [
    "classes = ['N','Q','V','S','F']\n",
    "index = np.arange(len(classes))\n",
    "\n",
    "bar = plt.bar(index, train['class'].value_counts())\n",
    "plt.xlabel('Class', fontsize=14)\n",
    "plt.ylabel('Count', fontsize=14)\n",
    "plt.xticks(index, classes, fontsize=12)\n",
    "\n",
    "for rect in bar:\n",
    "    height = rect.get_height()\n",
    "    plt.text(rect.get_x() + rect.get_width()/2.0, height, '%d' % int(height), ha='center', va='bottom')\n",
    "\n",
    "plt.show()"
   ]
  },
  {
   "cell_type": "markdown",
   "metadata": {},
   "source": [
    "class별 ECG 데이터 예시입니다."
   ]
  },
  {
   "cell_type": "code",
   "execution_count": 8,
   "metadata": {
    "jupyter": {
     "source_hidden": true
    }
   },
   "outputs": [
    {
     "data": {
      "image/png": "[encoded data removed]",
      "text/plain": [
       "<Figure size 1440x216 with 5 Axes>"
      ]
     },
     "metadata": {
      "needs_background": "light"
     },
     "output_type": "display_data"
    }
   ],
   "source": [
    "c = train.groupby('class', group_keys=False).apply(lambda train : train.sample(1))\n",
    "\n",
    "fig, ax = plt.subplots(1, 5, figsize=(20, 3))\n",
    "ax[0].plot(c.iloc[0,:186])\n",
    "ax[0].set_title(\"N\")\n",
    "ax[1].plot(c.iloc[4,:186])\n",
    "ax[1].set_title(\"Q\")\n",
    "ax[2].plot(c.iloc[2,:186])\n",
    "ax[2].set_title(\"V\")\n",
    "ax[3].plot(c.iloc[1,:186])\n",
    "ax[3].set_title(\"S\")\n",
    "ax[4].plot(c.iloc[3,:186])\n",
    "ax[4].set_title(\"F\")\n",
    "\n",
    "plt.show()"
   ]
  },
  {
   "cell_type": "markdown",
   "metadata": {},
   "source": [
    "<a id='CNN 모델 구성 및 학습'></a>"
   ]
  },
  {
   "cell_type": "markdown",
   "metadata": {},
   "source": [
    "<a id='CNN_모델_구성_및_학습'></a>\n",
    "## CNN 모델 생성 및 학습"
   ]
  },
  {
   "cell_type": "markdown",
   "metadata": {},
   "source": [
    "- 이번 예제에서 최적화할 하이퍼파라미터는 아래와 같습니다.\n",
    "  - `num_node`: convolution layer와 dense layer의 노드 개수\n",
    "  - `batch_size`: 모델 학습의 반복 한 회당 사용되는 샘플의 개수\n",
    "  - `learning_rate`: 경사하강법을 통해 모델을 학습시키는 데 사용되는 스칼라값으로, 각 반복에서 경사에 곱해지는 값\n",
    "  - `dropout_rate`: 모델의 일반화를 위해 layer에서 일부 노드만을 무작위로 선택하는 dropout 기법을 사용하는데, 이 때 선택되는 노드의 비율\n",
    "- AutoDL을 사용하기 위해서는 __argparse__를 통해 하이퍼파라미터를 설정해야 하는데,  \n",
    "  jupyter notebook에서는 argparse 사용이 불가능하기 때문에 __easydict__를 통해 하이퍼파라미터를 설정합니다.  \n",
    "  실제로 AutoDL에 사용되는 [autodl_cnn_ecg_classification.py](autodl_cnn_ecg_classification.py)에서는 argparse를 통해 하이퍼파라미터를 설정합니다."
   ]
  },
  {
   "cell_type": "code",
   "execution_count": 71,
   "metadata": {},
   "outputs": [],
   "source": [
    "args = easydict.EasyDict({\n",
    "    \"num_node\": 64,\n",
    "    \"batch_size\": 32,\n",
    "    \"num_epochs\": 20,\n",
    "    \"learning_rate\": 5e-4,\n",
    "    \"dropout_rate\": 0.5})"
   ]
  },
  {
   "cell_type": "markdown",
   "metadata": {},
   "source": [
    "데이터에서 feature와 class를 분리합니다."
   ]
  },
  {
   "cell_type": "code",
   "execution_count": 72,
   "metadata": {},
   "outputs": [],
   "source": [
    "y_train = to_categorical(train['class'])\n",
    "y_test = to_categorical(test['class'])\n",
    "\n",
    "X_train = train.iloc[:, :186].values\n",
    "X_test = test.iloc[:, :186].values\n",
    "X_train = X_train.reshape(len(X_train), X_train.shape[1], 1)\n",
    "X_test = X_test.reshape(len(X_test), X_test.shape[1], 1)"
   ]
  },
  {
   "cell_type": "markdown",
   "metadata": {},
   "source": [
    "- AutoDL에서 평가 지표를 수집할 수 있도록 epoch이 종료될 때마다 평가 지표(Accuracy)를 출력합니다.\n",
    "- 이번 예제에서는 __평가 지표명=평가 지표값__ 형식으로 평가 지표를 출력하는데,  \n",
    "  평가 지표 설정 방법은 [Modeler AutoDL 사용방법](#AutoDL_사용방법) 챕터에서 좀 더 자세히 다룰 것입니다."
   ]
  },
  {
   "cell_type": "code",
   "execution_count": 73,
   "metadata": {},
   "outputs": [],
   "source": [
    "class MetricHistory(Callback):\n",
    "    def on_epoch_end(self, epoch, logs=None):\n",
    "        print(\"\\nEpoch {}\".format(epoch + 1))\n",
    "        print(\"Train-acc={:.4f}\".format(logs['accuracy']))\n",
    "        print(\"Validation-acc={:.4f}\".format(logs['val_accuracy']))"
   ]
  },
  {
   "cell_type": "markdown",
   "metadata": {},
   "source": [
    "CNN 모델을 생성하고 학습시키는 함수입니다."
   ]
  },
  {
   "cell_type": "code",
   "execution_count": 5,
   "metadata": {},
   "outputs": [],
   "source": [
    "def network(X_train, y_train):\n",
    "    \n",
    "    # 3개의 1D convolution layer와 2개의 fully-connected layer로 구성되어 있습니다.\n",
    "    im_shape = (X_train.shape[1], 1)\n",
    "    inputs_cnn = Input(shape=(im_shape), name='inputs_cnn')\n",
    "    conv1_1 = Convolution1D(args.num_node, (6), activation='relu', input_shape=im_shape)(inputs_cnn)\n",
    "    conv1_1 = BatchNormalization()(conv1_1)\n",
    "    pool1 = MaxPool1D(pool_size=(3), strides=(2), padding=\"same\")(conv1_1)\n",
    "    conv2_1 = Convolution1D(args.num_node, (3), activation='relu', input_shape=im_shape)(pool1)\n",
    "    conv2_1 = BatchNormalization()(conv2_1)\n",
    "    pool2 = MaxPool1D(pool_size=(2), strides=(2), padding=\"same\")(conv2_1)\n",
    "    conv3_1 = Convolution1D(args.num_node, (3), activation='relu', input_shape=im_shape)(pool2)\n",
    "    conv3_1 = BatchNormalization()(conv3_1)\n",
    "    pool3 = MaxPool1D(pool_size=(2), strides=(2), padding=\"same\")(conv3_1)\n",
    "    flatten = Flatten()(pool3)\n",
    "    # dropout 기법을 사용합니다.\n",
    "    dropout1 = Dropout(args.dropout_rate)(flatten)\n",
    "    dense_end1 = Dense(args.num_node, activation='relu')(dropout1)\n",
    "    dropout2 = Dropout(args.dropout_rate)(dense_end1)\n",
    "    dense_end2 = Dense(args.num_node/2, activation='relu')(dropout2)\n",
    "    main_output = Dense(5, activation='softmax', name='main_output')(dense_end2)\n",
    "    \n",
    "    model = Model(inputs=inputs_cnn, outputs=main_output)\n",
    "    \n",
    "    # Adam optimizer를 사용합니다.\n",
    "    model.compile(optimizer=Adam(lr=args.learning_rate),\n",
    "                  loss='categorical_crossentropy',\n",
    "                  metrics = ['accuracy'])\n",
    "    \n",
    "    path = \"./best_model\"\n",
    "    if not os.path.isdir(path):\n",
    "        os.mkdir(path)\n",
    "    \n",
    "    callbacks = [EarlyStopping(monitor='val_loss', patience=8),\n",
    "                 # validation loss가 가장 낮은 모델의 체크 포인트가 best_model 폴더에 저장됩니다.\n",
    "                 ModelCheckpoint(filepath='best_model/best_model.h5', monitor='val_loss', save_best_only=True),\n",
    "                 MetricHistory()]\n",
    "\n",
    "    history = model.fit(X_train, y_train,\n",
    "                        epochs=args.num_epochs,\n",
    "                        callbacks=callbacks,\n",
    "                        batch_size=args.batch_size,\n",
    "                        # train 데이터를 7:3 비율로 나누어 train, validation 데이터로 사용합니다.\n",
    "                        validation_split=0.3,\n",
    "                        shuffle=True)\n",
    "    \n",
    "    model.load_weights('best_model/best_model.h5')\n",
    "    \n",
    "    return model, history"
   ]
  },
  {
   "cell_type": "code",
   "execution_count": 76,
   "metadata": {},
   "outputs": [
    {
     "name": "stdout",
     "output_type": "stream",
     "text": [
      "Epoch 1/20\n",
      "1915/1916 [============================>.] - ETA: 0s - loss: 0.3140 - accuracy: 0.9120\n",
      "Epoch 1\n",
      "Train-acc=0.9120\n",
      "Validation-acc=0.9619\n",
      "1916/1916 [==============================] - 42s 22ms/step - loss: 0.3139 - accuracy: 0.9120 - val_loss: 0.1408 - val_accuracy: 0.9619\n",
      "Epoch 2/20\n",
      "1915/1916 [============================>.] - ETA: 0s - loss: 0.1779 - accuracy: 0.9515\n",
      "Epoch 2\n",
      "Train-acc=0.9515\n",
      "Validation-acc=0.9675\n",
      "1916/1916 [==============================] - 46s 24ms/step - loss: 0.1778 - accuracy: 0.9515 - val_loss: 0.1204 - val_accuracy: 0.9675\n",
      "Epoch 3/20\n",
      "1915/1916 [============================>.] - ETA: 0s - loss: 0.1521 - accuracy: 0.9587\n",
      "Epoch 3\n",
      "Train-acc=0.9587\n",
      "Validation-acc=0.9738\n",
      "1916/1916 [==============================] - 42s 22ms/step - loss: 0.1520 - accuracy: 0.9587 - val_loss: 0.1101 - val_accuracy: 0.9738\n",
      "Epoch 4/20\n",
      "1914/1916 [============================>.] - ETA: 0s - loss: 0.1324 - accuracy: 0.9635\n",
      "Epoch 4\n",
      "Train-acc=0.9635\n",
      "Validation-acc=0.9733\n",
      "1916/1916 [==============================] - 43s 22ms/step - loss: 0.1325 - accuracy: 0.9635 - val_loss: 0.0949 - val_accuracy: 0.9733\n",
      "Epoch 5/20\n",
      "1913/1916 [============================>.] - ETA: 0s - loss: 0.1209 - accuracy: 0.9666\n",
      "Epoch 5\n",
      "Train-acc=0.9666\n",
      "Validation-acc=0.9757\n",
      "1916/1916 [==============================] - 45s 24ms/step - loss: 0.1208 - accuracy: 0.9666 - val_loss: 0.0928 - val_accuracy: 0.9757\n",
      "Epoch 6/20\n",
      "1914/1916 [============================>.] - ETA: 0s - loss: 0.1137 - accuracy: 0.9690\n",
      "Epoch 6\n",
      "Train-acc=0.9690\n",
      "Validation-acc=0.9776\n",
      "1916/1916 [==============================] - 43s 22ms/step - loss: 0.1137 - accuracy: 0.9690 - val_loss: 0.0934 - val_accuracy: 0.9776\n",
      "Epoch 7/20\n",
      "1916/1916 [==============================] - ETA: 0s - loss: 0.1054 - accuracy: 0.9708\n",
      "Epoch 7\n",
      "Train-acc=0.9708\n",
      "Validation-acc=0.9769\n",
      "1916/1916 [==============================] - 46s 24ms/step - loss: 0.1054 - accuracy: 0.9708 - val_loss: 0.0807 - val_accuracy: 0.9769\n",
      "Epoch 8/20\n",
      "1916/1916 [==============================] - ETA: 0s - loss: 0.1005 - accuracy: 0.9725\n",
      "Epoch 8\n",
      "Train-acc=0.9725\n",
      "Validation-acc=0.9795\n",
      "1916/1916 [==============================] - 46s 24ms/step - loss: 0.1005 - accuracy: 0.9725 - val_loss: 0.0727 - val_accuracy: 0.9795\n",
      "Epoch 9/20\n",
      "1914/1916 [============================>.] - ETA: 0s - loss: 0.0949 - accuracy: 0.9731\n",
      "Epoch 9\n",
      "Train-acc=0.9731\n",
      "Validation-acc=0.9788\n",
      "1916/1916 [==============================] - 46s 24ms/step - loss: 0.0949 - accuracy: 0.9731 - val_loss: 0.0755 - val_accuracy: 0.9788\n",
      "Epoch 10/20\n",
      "1914/1916 [============================>.] - ETA: 0s - loss: 0.0924 - accuracy: 0.9737\n",
      "Epoch 10\n",
      "Train-acc=0.9737\n",
      "Validation-acc=0.9816\n",
      "1916/1916 [==============================] - 45s 24ms/step - loss: 0.0923 - accuracy: 0.9737 - val_loss: 0.0674 - val_accuracy: 0.9816\n",
      "Epoch 11/20\n",
      "1915/1916 [============================>.] - ETA: 0s - loss: 0.0886 - accuracy: 0.9755\n",
      "Epoch 11\n",
      "Train-acc=0.9755\n",
      "Validation-acc=0.9802\n",
      "1916/1916 [==============================] - 45s 24ms/step - loss: 0.0886 - accuracy: 0.9755 - val_loss: 0.0707 - val_accuracy: 0.9802\n",
      "Epoch 12/20\n",
      "1915/1916 [============================>.] - ETA: 0s - loss: 0.0845 - accuracy: 0.9759\n",
      "Epoch 12\n",
      "Train-acc=0.9759\n",
      "Validation-acc=0.9754\n",
      "1916/1916 [==============================] - 45s 24ms/step - loss: 0.0845 - accuracy: 0.9759 - val_loss: 0.0843 - val_accuracy: 0.9754\n",
      "Epoch 13/20\n",
      "1914/1916 [============================>.] - ETA: 0s - loss: 0.0829 - accuracy: 0.9771\n",
      "Epoch 13\n",
      "Train-acc=0.9771\n",
      "Validation-acc=0.9820\n",
      "1916/1916 [==============================] - 45s 24ms/step - loss: 0.0830 - accuracy: 0.9771 - val_loss: 0.0656 - val_accuracy: 0.9820\n",
      "Epoch 14/20\n",
      "1913/1916 [============================>.] - ETA: 0s - loss: 0.0803 - accuracy: 0.9772\n",
      "Epoch 14\n",
      "Train-acc=0.9772\n",
      "Validation-acc=0.9802\n",
      "1916/1916 [==============================] - 46s 24ms/step - loss: 0.0803 - accuracy: 0.9772 - val_loss: 0.0684 - val_accuracy: 0.9802\n",
      "Epoch 15/20\n",
      "1914/1916 [============================>.] - ETA: 0s - loss: 0.0790 - accuracy: 0.9771\n",
      "Epoch 15\n",
      "Train-acc=0.9771\n",
      "Validation-acc=0.9816\n",
      "1916/1916 [==============================] - 44s 23ms/step - loss: 0.0791 - accuracy: 0.9771 - val_loss: 0.0658 - val_accuracy: 0.9816\n",
      "Epoch 16/20\n",
      "1914/1916 [============================>.] - ETA: 0s - loss: 0.0745 - accuracy: 0.9787\n",
      "Epoch 16\n",
      "Train-acc=0.9787\n",
      "Validation-acc=0.9818\n",
      "1916/1916 [==============================] - 46s 24ms/step - loss: 0.0746 - accuracy: 0.9787 - val_loss: 0.0686 - val_accuracy: 0.9818\n",
      "Epoch 17/20\n",
      "1916/1916 [==============================] - ETA: 0s - loss: 0.0729 - accuracy: 0.9787\n",
      "Epoch 17\n",
      "Train-acc=0.9787\n",
      "Validation-acc=0.9804\n",
      "1916/1916 [==============================] - 44s 23ms/step - loss: 0.0729 - accuracy: 0.9787 - val_loss: 0.0755 - val_accuracy: 0.9804\n",
      "Epoch 18/20\n",
      "1914/1916 [============================>.] - ETA: 0s - loss: 0.0721 - accuracy: 0.9792\n",
      "Epoch 18\n",
      "Train-acc=0.9792\n",
      "Validation-acc=0.9826\n",
      "1916/1916 [==============================] - 45s 24ms/step - loss: 0.0721 - accuracy: 0.9792 - val_loss: 0.0635 - val_accuracy: 0.9826\n",
      "Epoch 19/20\n",
      "1913/1916 [============================>.] - ETA: 0s - loss: 0.0693 - accuracy: 0.9800\n",
      "Epoch 19\n",
      "Train-acc=0.9800\n",
      "Validation-acc=0.9839\n",
      "1916/1916 [==============================] - 45s 24ms/step - loss: 0.0693 - accuracy: 0.9800 - val_loss: 0.0592 - val_accuracy: 0.9839\n",
      "Epoch 20/20\n",
      "1915/1916 [============================>.] - ETA: 0s - loss: 0.0696 - accuracy: 0.9795\n",
      "Epoch 20\n",
      "Train-acc=0.9794\n",
      "Validation-acc=0.9837\n",
      "1916/1916 [==============================] - 44s 23ms/step - loss: 0.0696 - accuracy: 0.9794 - val_loss: 0.0570 - val_accuracy: 0.9837\n"
     ]
    }
   ],
   "source": [
    "model, history = network(X_train, y_train)"
   ]
  },
  {
   "cell_type": "markdown",
   "metadata": {},
   "source": [
    "<a id='학습_결과_시각화'></a>\n",
    "## 학습 결과 시각화"
   ]
  },
  {
   "cell_type": "markdown",
   "metadata": {},
   "source": [
    "모델의 학습 과정 그래프를 그리는 함수입니다."
   ]
  },
  {
   "cell_type": "code",
   "execution_count": 152,
   "metadata": {},
   "outputs": [],
   "source": [
    "def evaluate_model(history, X_test, y_test, model):\n",
    "    scores = model.evaluate((X_test),y_test, verbose=0)\n",
    "    print(\"Accuracy: %.2f%%\" % (scores[1]*100))\n",
    "    \n",
    "    print(history)\n",
    "    \n",
    "    fig, ax = plt.subplots(1, 2, figsize=(20, 5))\n",
    "    \n",
    "    ax[0].plot(history.history['accuracy'])\n",
    "    ax[0].plot(history.history['val_accuracy'])\n",
    "    ax[0].set_xlabel('Epoch')\n",
    "    ax[0].set_ylabel('Accuracy')\n",
    "    ax[0].set_title('Model - Accuracy')\n",
    "    ax[0].legend(['Training', 'Validation'], loc='lower right')\n",
    "\n",
    "    ax[1].plot(history.history['loss'])\n",
    "    ax[1].plot(history.history['val_loss'])\n",
    "    ax[1].set_xlabel('Epoch')\n",
    "    ax[1].set_ylabel('Loss')\n",
    "    ax[1].set_title('Model - Loss')\n",
    "    ax[1].legend(['Training', 'Validation'], loc='upper right')\n",
    "    plt.show()\n",
    "    target_names=['0','1','2','3','4']\n",
    "    \n",
    "    y_true=[]\n",
    "    for element in y_test:\n",
    "        y_true.append(np.argmax(element))\n",
    "    prediction_proba=model.predict(X_test)\n",
    "    prediction=np.argmax(prediction_proba,axis=1)\n",
    "    cnf_matrix = confusion_matrix(y_true, prediction)"
   ]
  },
  {
   "cell_type": "markdown",
   "metadata": {},
   "source": [
    "confusion matrix를 그리는 함수입니다."
   ]
  },
  {
   "cell_type": "code",
   "execution_count": null,
   "metadata": {},
   "outputs": [],
   "source": [
    "def plot_confusion_matrix(cm, classes,\n",
    "                          normalize=False,\n",
    "                          title='Confusion matrix',\n",
    "                          cmap=plt.cm.Blues):\n",
    "    \"\"\"\n",
    "    This function prints and plots the confusion matrix.\n",
    "    Normalization can be applied by setting `normalize=True`.\n",
    "    \"\"\"\n",
    "    if normalize:\n",
    "        cm = cm.astype('float') / cm.sum(axis=1)[:, np.newaxis]\n",
    "        print(\"Normalized confusion matrix\")\n",
    "    else:\n",
    "        print('Confusion matrix, without normalization')\n",
    "\n",
    "    plt.imshow(cm, interpolation='nearest', cmap=cmap)\n",
    "    plt.ylim(-0.5, 4.5)\n",
    "    plt.title(title)\n",
    "    plt.colorbar()\n",
    "    tick_marks = np.arange(len(classes))\n",
    "    plt.xticks(tick_marks, classes, rotation=45)\n",
    "    plt.yticks(tick_marks, classes)\n",
    "\n",
    "    fmt = '.2f' if normalize else 'd'\n",
    "    thresh = cm.max() / 2.\n",
    "    for i, j in itertools.product(range(cm.shape[0]), range(cm.shape[1])):\n",
    "        plt.text(j, i, format(cm[i, j], fmt),\n",
    "                 horizontalalignment=\"center\",\n",
    "                 color=\"white\" if cm[i, j] > thresh else \"black\")\n",
    "\n",
    "    plt.tight_layout()\n",
    "    plt.ylabel('True label')\n",
    "    plt.xlabel('Predicted label')"
   ]
  },
  {
   "cell_type": "code",
   "execution_count": 153,
   "metadata": {},
   "outputs": [
    {
     "name": "stdout",
     "output_type": "stream",
     "text": [
      "Accuracy: 98.27%\n",
      "<tensorflow.python.keras.callbacks.History object at 0x7fa780862320>\n"
     ]
    },
    {
     "data": {
      "image/png": "[encoded data removed]",
      "text/plain": [
       "<Figure size 1440x360 with 2 Axes>"
      ]
     },
     "metadata": {
      "needs_background": "light"
     },
     "output_type": "display_data"
    }
   ],
   "source": [
    "evaluate_model(history, X_test, y_test, model)"
   ]
  },
  {
   "cell_type": "code",
   "execution_count": 154,
   "metadata": {},
   "outputs": [
    {
     "name": "stdout",
     "output_type": "stream",
     "text": [
      "Normalized confusion matrix\n"
     ]
    },
    {
     "data": {
      "image/png": "[encoded data removed]",
      "text/plain": [
       "<Figure size 504x504 with 2 Axes>"
      ]
     },
     "metadata": {
      "needs_background": "light"
     },
     "output_type": "display_data"
    }
   ],
   "source": [
    "# Compute confusion matrix\n",
    "y_pred = model.predict(X_test)\n",
    "cnf_matrix = confusion_matrix(y_test.argmax(axis=1), y_pred.argmax(axis=1))\n",
    "np.set_printoptions(precision=2)\n",
    "\n",
    "# Plot non-normalized confusion matrix\n",
    "plt.figure(figsize=(7, 7))\n",
    "plot_confusion_matrix(cnf_matrix,\n",
    "                      classes=['N', 'S', 'V', 'F', 'Q'],\n",
    "                      normalize=True,\n",
    "                      title='Confusion matrix, with normalization')\n",
    "plt.show()"
   ]
  },
  {
   "cell_type": "markdown",
   "metadata": {},
   "source": [
    "<a id='AutoDL_사용방법'></a>\n",
    "## Modeler AutoDL 사용방법\n",
    "- 지금까지 심장박동 패턴을 분류하는 CNN 모델 예제를 살펴보았습니다.\n",
    "- 이번 챕터에서는 위에서 살펴본 CNN 모델의 하이퍼파라미터를 AutoDL 기능을 사용해 최적화하는 과정에 대해 다룰 것입니다."
   ]
  }
 ],
 "metadata": {
  "kernelspec": {
   "display_name": "Python 3",
   "language": "python",
   "name": "python3"
  },
  "language_info": {
   "codemirror_mode": {
    "name": "ipython",
    "version": 3
   },
   "file_extension": ".py",
   "mimetype": "text/x-python",
   "name": "python",
   "nbconvert_exporter": "python",
   "pygments_lexer": "ipython3",
   "version": "3.6.9"
  }
 },
 "nbformat": 4,
 "nbformat_minor": 4
}
