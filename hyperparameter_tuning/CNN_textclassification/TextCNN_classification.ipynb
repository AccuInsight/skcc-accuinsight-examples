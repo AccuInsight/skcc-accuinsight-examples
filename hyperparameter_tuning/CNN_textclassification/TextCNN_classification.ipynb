{
 "cells": [
  {
   "cell_type": "markdown",
   "metadata": {},
   "source": [
    "# Accuinsight+ Modeler AutoDL tutorial\n",
    "## 한글 텍스트를 분류하는 CNN 모델  \n",
    "## 목차\n",
    "1. [분석 개요](#1.분석개요)\n",
    "2. [데이터](#2.데이터)\n",
    "3. [CNN 모델 생성 및 학습](#3.CNN모델구성및학습)\n",
    "4. [학습 결과 시각화](#학습_결과_시각화)\n",
    "5. [모델 평가](#모델_평가)\n",
    "6. [Modeler AutoDL 사용방법](#AutoDL_사용방법)"
   ]
  },
  {
   "cell_type": "markdown",
   "metadata": {},
   "source": [
    "<a id='1.분석개요'></a>\n",
    "## 분석 개요\n",
    "- 본 예제에서는 네이버 영화 리뷰를 긍정, 부정 리뷰로 분류하는 CNN 모델을 만들고,  \n",
    "  Accuinsight+ Modeler의 AutoDL 기능을 사용하여 하이퍼파라미터를 최적화하는 과정을 설명합니다.\n",
    "- [TextCNN-preprocessing.ipynb](TextCNN-preprocessing.ipynb)에서 간단한 전처리 과정을 거친 데이터를 입력 값으로 사용합니다.\n",
    "- tensorflow 2.0 버전으로 [Kim(2014)](http://emnlp2014.org/papers/pdf/EMNLP2014181.pdf)을 구현한 코드로, 다음의 출처를 참고하여 코드를 재구성했습니다. ([출처1](https://github.com/ShaneTian/TextCNN), [출처2](https://wikidocs.net/77511))\n",
    "<p align=\"center\">\n",
    "    <img src=\"pic/TextCNN.png\" height=\"300px\" width=\"800px\">\n",
    "</p>"
   ]
  },
  {
   "cell_type": "code",
   "execution_count": 46,
   "metadata": {},
   "outputs": [],
   "source": [
    "import tensorflow.keras as keras\n",
    "from tensorflow.keras.callbacks import Callback\n",
    "from konlpy.tag import Okt\n",
    "import numpy as np\n",
    "import pandas as pd\n",
    "import matplotlib.pyplot as plt\n",
    "import easydict"
   ]
  },
  {
   "cell_type": "markdown",
   "metadata": {},
   "source": [
    "- 이번 예제에서 최적화할 하이퍼파라미터는 아래와 같습니다.\n",
    "  - `sequence_length`: 토큰 리스트의 최대 길이\n",
    "  - `embed_size`: 토큰을 임베딩할 차원의 수\n",
    "  - `filter_sizes`: 필터의 크기\n",
    "  - `num_filters`: 각각의 필터 개수\n",
    "  - `dropout_rate`: 모델의 일반화를 위해 layer에서 일부 노드만을 무작위로 선택하는 dropout 기법을 사용하는데, 이 때 선택되는 노드의 비율\n",
    "  - `learning_rate`: 경사하강법을 통해 모델을 학습시키는 데 사용되는 스칼라값으로, 각 반복에서 경사에 곱해지는 값\n",
    "  - `batch_size`: 모델 학습의 반복 한 회당 사용되는 샘플의 개수\n",
    "- AutoDL을 사용하기 위해서는 __argparse__를 통해 하이퍼파라미터를 설정해야 하는데,  \n",
    "  jupyter notebook에서는 argparse 사용이 불가능하기 때문에 __easydict__를 통해 하이퍼파라미터를 설정합니다.  \n",
    "  실제로 AutoDL에 사용되는 [TextCNN_classification.py](TextCNN_classification.py)에서는 argparse를 통해 하이퍼파라미터를 설정합니다."
   ]
  },
  {
   "cell_type": "code",
   "execution_count": 105,
   "metadata": {},
   "outputs": [],
   "source": [
    "args = easydict.EasyDict({\n",
    "    \"sequence_length\": 150,\n",
    "    \"embed_size\": 128,\n",
    "    \"filter_sizes\": \"3,4,5\",\n",
    "    \"num_filters\": 128,\n",
    "    \"dropout_rate\": 0.5,\n",
    "    \"regularizers_lambda\": 0.01,\n",
    "    \"learning_rate\": 0.0001,\n",
    "    \"batch_size\": 128,\n",
    "    \"epochs\": 30})"
   ]
  },
  {
   "cell_type": "markdown",
   "metadata": {},
   "source": [
    "<a id='2.데이터'></a>\n",
    "## 데이터"
   ]
  },
  {
   "cell_type": "markdown",
   "metadata": {},
   "source": [
    "#### Okt 형태소 분석기를 사용해 문장을 토큰화\n",
    "- 주어진 문장을 토큰화한 list를 반환하는 함수입니다.\n",
    "- 예를 들어, 어떤 문장이 토큰의 나열로 표현되는 과정은 다음과 같습니다.  \n",
    "  1) __원본 문장__: ['스토리가 맘에 들었습니다 추천합니다']  \n",
    "  2) okt.morphs(['스토리가 맘에 들었습니다 추천합니다'])  \n",
    "  3) ' '.join(['스토리', '가', '맘', '에', '들었습니다', '추천', '합니다'])  \n",
    "  4) __토큰의 나열__: ['스토리 가 맘 에 들었습니다 추천 합니다']"
   ]
  },
  {
   "cell_type": "code",
   "execution_count": 96,
   "metadata": {},
   "outputs": [],
   "source": [
    "def make_morphs_list(documents):\n",
    "    okt=Okt()\n",
    "    morphs_list = []\n",
    "    for i, document in enumerate(documents):\n",
    "        clean_words = []\n",
    "        for word in okt.morphs(document): \n",
    "            clean_words.append(word)\n",
    "        document = ' '.join(clean_words)\n",
    "        morphs_list.append(document)\n",
    "\n",
    "    return morphs_list"
   ]
  },
  {
   "cell_type": "markdown",
   "metadata": {},
   "source": [
    "#### 단어 사전 생성\n",
    "- 주어진 텍스트에 등장하는 모든 단어로 생성한 `word_to_index` 딕셔너리와 단어의 개수 `vocab_size`를 반환하는 함수입니다.\n",
    "- 텍스트를 CNN 모델의 입력 값으로 사용할 수 있도록 단어에 인덱스를 부여하는 과정입니다."
   ]
  },
  {
   "cell_type": "code",
   "execution_count": 25,
   "metadata": {},
   "outputs": [],
   "source": [
    "PADDING = \"<PADDING>\"  # Zero padding\n",
    "OOV = \"<OOV>\" # Out Of Vocabulary\n",
    "\n",
    "def make_dictionary(documents):\n",
    "    words = []\n",
    "\n",
    "    for document in documents:\n",
    "        for word in document.split():\n",
    "            words.append(word)\n",
    "\n",
    "    # 길이가 0인 단어를 삭제합니다.\n",
    "    words = [word for word in words if len(word) > 0]\n",
    "\n",
    "    # 중복된 단어를 삭제합니다.\n",
    "    words = list(set(words))\n",
    "    \n",
    "    # 단어 사전의 제일 앞에 태그 단어를 삽입합니다.\n",
    "    # 단어 사전에서 PADDING의 인덱스는 0, OOV의 인덱스는 1이 됩니다.\n",
    "    words = [PADDING, OOV] + words\n",
    "    \n",
    "    vocab_size = len(words)\n",
    "\n",
    "    # 단어 사전 word_to_index를 생성합니다.\n",
    "    word_to_index = {word: index for index, word in enumerate(words)}\n",
    "    \n",
    "    return word_to_index, vocab_size"
   ]
  },
  {
   "cell_type": "markdown",
   "metadata": {},
   "source": [
    "#### 리뷰 문장을 CNN 모델의 입력 값으로 변형\n",
    "- 문장을 인덱스 배열로 변환하고, 이를 저장한 `documents_index` 리스트를 반환하는 함수입니다.\n",
    "- 예를 들어 args.sequence_length=10이고 토큰의 개수가 7개인 경우 다음과 같이 변환됩니다.  \n",
    "  스토리 가 맘 에 들었습니다 추천 합니다 -> [4, 12, 7, 6, 32, 21, 41, 0, 0, 0]"
   ]
  },
  {
   "cell_type": "code",
   "execution_count": 26,
   "metadata": {},
   "outputs": [],
   "source": [
    "def convert_word_to_index(documents, word_to_index):\n",
    "    documents_index = []\n",
    "\n",
    "    # 모든 문장에 대해서 반복합니다.\n",
    "    for document in documents:\n",
    "        document_index = []\n",
    "\n",
    "        # 문장의 단어들을 띄어쓰기로 분리합니다.\n",
    "        for word in document.split():\n",
    "            if word_to_index.get(word) is not None:\n",
    "                # 사전에 있는 단어이면 해당 인덱스를 추가합니다.\n",
    "                document_index.append(word_to_index[word])\n",
    "            else:\n",
    "                # 사전에 없는 단어이면 OOV 인덱스를 추가합니다.\n",
    "                document_index.append(word_to_index[OOV])\n",
    "\n",
    "        # 최대 길이(arg.sequence_length)를 확인합니다.\n",
    "        if len(document_index) > args.sequence_length:\n",
    "            document_index = document_index[:args.sequence_length]\n",
    "\n",
    "        # 최대 길이보다 짧은 문장은 남는 토큰(최대 길이-문장의 토큰 개수)만큼을 PADDING 인덱스로 채웁니다.\n",
    "        document_index += [word_to_index[PADDING]] * (args.sequence_length - len(document_index))\n",
    "\n",
    "        # 문장의 인덱스 배열을 document_index 리스트에 추가합니다.\n",
    "        documents_index.append(document_index)\n",
    "\n",
    "    return np.asarray(documents_index)"
   ]
  },
  {
   "cell_type": "markdown",
   "metadata": {},
   "source": [
    "#### 라벨 데이터를 one-hot encoding\n",
    "- 모델에 입력하기 위해 긍정, 부정 라벨을 one-hot encoding하는 함수 입니다.\n",
    "- 부정 라벨(0)은 [1, 0]으로, 긍정 라벨(1)은 [0, 1]로 encoding합니다."
   ]
  },
  {
   "cell_type": "code",
   "execution_count": 27,
   "metadata": {},
   "outputs": [],
   "source": [
    "def label_one_hot_encoding(label):\n",
    "    results = np.zeros((len(label), 2))\n",
    "    for idx, l in enumerate(label):\n",
    "        if l == 0: # negative\n",
    "            results[idx] = [1, 0]\n",
    "        else: # positive\n",
    "            results[idx] = [0, 1]\n",
    "    return results"
   ]
  },
  {
   "cell_type": "markdown",
   "metadata": {},
   "source": [
    "데이터를 불러옵니다."
   ]
  },
  {
   "cell_type": "code",
   "execution_count": 8,
   "metadata": {},
   "outputs": [],
   "source": [
    "df = pd.read_csv(\"data/ratings_preprocessed.csv\", sep='\\t')\n",
    "documents = make_morphs_list(df['document'].values)\n",
    "word_to_index, vocab_size = make_dictionary(documents)\n",
    "documents_index = convert_word_to_index(documents, word_to_index)\n",
    "labels = label_one_hot_encoding(df['label'].values)"
   ]
  },
  {
   "cell_type": "code",
   "execution_count": 16,
   "metadata": {},
   "outputs": [
    {
     "name": "stdout",
     "output_type": "stream",
     "text": [
      "총 데이터 개수:  65329\n",
      "train 데이터 개수:  52263\n",
      "test 데이터 개수:  13066\n"
     ]
    }
   ],
   "source": [
    "print(\"총 데이터 개수: \", len(labels))\n",
    "print(\"train 데이터 개수: \", int(len(labels)*0.8))\n",
    "print(\"test 데이터 개수: \", len(labels)-int(len(labels)*0.8))"
   ]
  },
  {
   "cell_type": "code",
   "execution_count": 17,
   "metadata": {},
   "outputs": [],
   "source": [
    "X_train, Y_train = documents_index[:52263], labels[:52263]\n",
    "X_test, Y_test = documents_index[52263:], labels[52263:]"
   ]
  },
  {
   "cell_type": "markdown",
   "metadata": {},
   "source": [
    "<a id='3.CNN모델구성및학습'></a>\n",
    "## CNN 모델 생성 및 학습\n",
    "- 입력 값은 문장을 인덱스 배열로 변환한 값입니다.  \n",
    "  ex) [4, 12, 7, 6, 32, 21, 41, 0, 0, 0]\n",
    "- 처음에는 랜덤하게 입력 값을 임베딩한 후 학습을 통해 업데이트합니다.  \n",
    "  ex) [4, 12, 7, 6, 32, 21, 41, 0, 0, 0] -> [0.2, 0.32, -0.97, 0.1, -0.2, 0.44, 0.8, 0, 0, 0]\n",
    "- 임베딩한 값은 3, 4, 5 사이즈의 필터(각각 128개)를 거치고, 그 결과 값을 concatenate한 뒤 분류를 수행합니다."
   ]
  },
  {
   "cell_type": "code",
   "execution_count": 31,
   "metadata": {},
   "outputs": [
    {
     "name": "stdout",
     "output_type": "stream",
     "text": [
      "Model: \"model_2\"\n",
      "__________________________________________________________________________________________________\n",
      "Layer (type)                    Output Shape         Param #     Connected to                     \n",
      "==================================================================================================\n",
      "input_data (InputLayer)         [(None, 150)]        0                                            \n",
      "__________________________________________________________________________________________________\n",
      "embedding (Embedding)           (None, 150, 128)     8233600     input_data[0][0]                 \n",
      "__________________________________________________________________________________________________\n",
      "add_channel (Reshape)           (None, 150, 128, 1)  0           embedding[0][0]                  \n",
      "__________________________________________________________________________________________________\n",
      "convolution_3 (Conv2D)          (None, 148, 1, 128)  49280       add_channel[0][0]                \n",
      "__________________________________________________________________________________________________\n",
      "convolution_4 (Conv2D)          (None, 147, 1, 128)  65664       add_channel[0][0]                \n",
      "__________________________________________________________________________________________________\n",
      "convolution_5 (Conv2D)          (None, 146, 1, 128)  82048       add_channel[0][0]                \n",
      "__________________________________________________________________________________________________\n",
      "max_pooling_3 (MaxPooling2D)    (None, 1, 1, 128)    0           convolution_3[0][0]              \n",
      "__________________________________________________________________________________________________\n",
      "max_pooling_4 (MaxPooling2D)    (None, 1, 1, 128)    0           convolution_4[0][0]              \n",
      "__________________________________________________________________________________________________\n",
      "max_pooling_5 (MaxPooling2D)    (None, 1, 1, 128)    0           convolution_5[0][0]              \n",
      "__________________________________________________________________________________________________\n",
      "concatenate (Concatenate)       (None, 1, 1, 384)    0           max_pooling_3[0][0]              \n",
      "                                                                 max_pooling_4[0][0]              \n",
      "                                                                 max_pooling_5[0][0]              \n",
      "__________________________________________________________________________________________________\n",
      "flatten (Flatten)               (None, 384)          0           concatenate[0][0]                \n",
      "__________________________________________________________________________________________________\n",
      "dropout (Dropout)               (None, 384)          0           flatten[0][0]                    \n",
      "__________________________________________________________________________________________________\n",
      "dense (Dense)                   (None, 2)            770         dropout[0][0]                    \n",
      "==================================================================================================\n",
      "Total params: 8,431,362\n",
      "Trainable params: 8,431,362\n",
      "Non-trainable params: 0\n",
      "__________________________________________________________________________________________________\n"
     ]
    }
   ],
   "source": [
    "def TextCNN(vocab_size, sequence_length, embed_size, num_classes, num_filters,\n",
    "            filter_sizes, regularizers_lambda, dropout_rate):\n",
    "\n",
    "    inputs = keras.Input(shape=(sequence_length,), name='input_data')\n",
    "    embed = keras.layers.Embedding(vocab_size, embed_size,\n",
    "                                   embeddings_initializer=keras.initializers.RandomUniform(minval=-1, maxval=1),\n",
    "                                   input_length=sequence_length,\n",
    "                                   name='embedding')(inputs)\n",
    "\n",
    "    embed = keras.layers.Reshape((sequence_length, embed_size, 1), name='add_channel')(embed)\n",
    "\n",
    "    pool_outputs = []\n",
    "    for filter_size in list(map(int, filter_sizes.split(','))):\n",
    "        filter_shape = (filter_size, embed_size)\n",
    "        conv = keras.layers.Conv2D(num_filters, filter_shape, strides=(1, 1), padding='valid',\n",
    "                                   data_format='channels_last', activation='relu',\n",
    "                                   kernel_initializer='glorot_normal',\n",
    "                                   bias_initializer=keras.initializers.constant(0.1),\n",
    "                                   name='convolution_{:d}'.format(filter_size))(embed)\n",
    "        max_pool_shape = (sequence_length - filter_size + 1, 1)\n",
    "        pool = keras.layers.MaxPool2D(pool_size=max_pool_shape,\n",
    "                                      strides=(1, 1), padding='valid',\n",
    "                                      data_format='channels_last',\n",
    "                                      name='max_pooling_{:d}'.format(filter_size))(conv)\n",
    "        pool_outputs.append(pool)\n",
    "\n",
    "    pool_outputs = keras.layers.concatenate(pool_outputs, axis=-1, name='concatenate')\n",
    "    pool_outputs = keras.layers.Flatten(data_format='channels_last', name='flatten')(pool_outputs)\n",
    "    pool_outputs = keras.layers.Dropout(dropout_rate, name='dropout')(pool_outputs)\n",
    "\n",
    "    outputs = keras.layers.Dense(num_classes, activation='softmax',\n",
    "                                 kernel_initializer='glorot_normal',\n",
    "                                 bias_initializer=keras.initializers.constant(0.1),\n",
    "                                 kernel_regularizer=keras.regularizers.l2(regularizers_lambda),\n",
    "                                 bias_regularizer=keras.regularizers.l2(regularizers_lambda),\n",
    "                                 name='dense')(pool_outputs)\n",
    "    model = keras.Model(inputs=inputs, outputs=outputs)\n",
    "    return model\n",
    "\n",
    "model = TextCNN(vocab_size, args.sequence_length, args.embed_size, 2,\n",
    "                args.num_filters, args.filter_sizes, args.regularizers_lambda, args.dropout_rate)\n",
    "model.summary()\n",
    "model.compile(keras.optimizers.Adam(lr=args.learning_rate),\n",
    "              loss='binary_crossentropy',\n",
    "              metrics=['accuracy'])"
   ]
  },
  {
   "cell_type": "markdown",
   "metadata": {},
   "source": [
    "- AutoDL에서 평가 지표를 수집할 수 있도록 epoch이 종료될 때마다 평가 지표(Accuracy)를 출력합니다.\n",
    "- 이번 예제에서는 __평가 지표명=평가 지표값__ 형식으로 평가 지표를 출력하는데,  \n",
    "  평가 지표 설정 방법은 [Modeler AutoDL 사용방법](#AutoDL_사용방법) 챕터에서 좀 더 자세히 다룰 것입니다."
   ]
  },
  {
   "cell_type": "code",
   "execution_count": 36,
   "metadata": {},
   "outputs": [],
   "source": [
    "class MetricHistory(Callback):\n",
    "    def on_epoch_end(self, epoch, logs=None):\n",
    "        print(\"\\nEpoch {}\".format(epoch + 1))\n",
    "        print(\"Train-acc={:.4f}\".format(logs['accuracy']))\n",
    "        print(\"Validation-acc={:.4f}\".format(logs['val_accuracy']))"
   ]
  },
  {
   "cell_type": "markdown",
   "metadata": {},
   "source": [
    "모델을 학습시킵니다."
   ]
  },
  {
   "cell_type": "code",
   "execution_count": 43,
   "metadata": {},
   "outputs": [
    {
     "name": "stdout",
     "output_type": "stream",
     "text": [
      "Epoch 1/2\n",
      "307/307 [==============================] - ETA: 0s - loss: 0.1157 - accuracy: 0.9743\n",
      "Epoch 1\n",
      "Train-acc=0.9743\n",
      "Validation-acc=0.8079\n",
      "307/307 [==============================] - 45s 148ms/step - loss: 0.1157 - accuracy: 0.9743 - val_loss: 0.5747 - val_accuracy: 0.8079\n",
      "Epoch 2/2\n",
      "307/307 [==============================] - ETA: 0s - loss: 0.1112 - accuracy: 0.9762\n",
      "Epoch 2\n",
      "Train-acc=0.9762\n",
      "Validation-acc=0.8094\n",
      "307/307 [==============================] - 45s 146ms/step - loss: 0.1112 - accuracy: 0.9762 - val_loss: 0.5799 - val_accuracy: 0.8094\n"
     ]
    }
   ],
   "source": [
    "history = model.fit(x=X_train, y=Y_train,\n",
    "                    batch_size=args.batch_size,\n",
    "                    epochs=args.epochs,\n",
    "                    validation_split=0.25,\n",
    "                    shuffle=True,\n",
    "                    callbacks=[MetricHistory()])"
   ]
  },
  {
   "cell_type": "markdown",
   "metadata": {},
   "source": [
    "<a id='학습_결과_시각화'></a>\n",
    "## 학습 결과 시각화"
   ]
  },
  {
   "cell_type": "markdown",
   "metadata": {},
   "source": [
    "모델의 학습 과정 그래프를 그리는 함수입니다."
   ]
  },
  {
   "cell_type": "code",
   "execution_count": 49,
   "metadata": {},
   "outputs": [],
   "source": [
    "def evaluate_model(history, X_test, y_test, model):\n",
    "    scores = model.evaluate((X_test),y_test, verbose=0)\n",
    "    print(\"Accuracy: %.2f%%\" % (scores[1]*100))\n",
    "    \n",
    "    print(history)\n",
    "    \n",
    "    fig, ax = plt.subplots(1, 2, figsize=(20, 5))\n",
    "    \n",
    "    ax[0].plot(history.history['accuracy'])\n",
    "    ax[0].plot(history.history['val_accuracy'])\n",
    "    ax[0].set_xlabel('Epoch')\n",
    "    ax[0].set_ylabel('Accuracy')\n",
    "    ax[0].set_title('Model - Accuracy')\n",
    "    ax[0].legend(['Training', 'Validation'], loc='lower right')\n",
    "\n",
    "    ax[1].plot(history.history['loss'])\n",
    "    ax[1].plot(history.history['val_loss'])\n",
    "    ax[1].set_xlabel('Epoch')\n",
    "    ax[1].set_ylabel('Loss')\n",
    "    ax[1].set_title('Model - Loss')\n",
    "    ax[1].legend(['Training', 'Validation'], loc='upper right')\n",
    "    plt.show()"
   ]
  },
  {
   "cell_type": "code",
   "execution_count": 50,
   "metadata": {},
   "outputs": [
    {
     "name": "stdout",
     "output_type": "stream",
     "text": [
      "Accuracy: 80.88%\n",
      "<tensorflow.python.keras.callbacks.History object at 0x7f84ba79e9b0>\n"
     ]
    },
    {
     "data": {
      "image/png": "[encoded data removed]",
      "text/plain": [
       "<Figure size 1440x360 with 2 Axes>"
      ]
     },
     "metadata": {
      "needs_background": "light"
     },
     "output_type": "display_data"
    }
   ],
   "source": [
    "evaluate_model(history, X_test, Y_test, model)"
   ]
  },
  {
   "cell_type": "markdown",
   "metadata": {},
   "source": [
    "<a id='모델_평가'></a>\n",
    "## 모델 평가"
   ]
  },
  {
   "cell_type": "markdown",
   "metadata": {},
   "source": [
    "학습한 모델에 임의의 문장을 입력하여 모델을 평가합니다."
   ]
  },
  {
   "cell_type": "code",
   "execution_count": 107,
   "metadata": {},
   "outputs": [
    {
     "name": "stdout",
     "output_type": "stream",
     "text": [
      "시간 아까웠음 비추천 - 부정 리뷰입니다.\n",
      "뭘 말하고 싶은건지 모르겠다 - 부정 리뷰입니다.\n",
      "연기가 좋았습니다 - 긍정 리뷰입니다.\n",
      "너무 감동적이었어요 - 긍정 리뷰입니다.\n"
     ]
    }
   ],
   "source": [
    "# 모델을 평가할 문장은 list로 작성합니다.\n",
    "test_sentence = [\"시간 아까웠음 비추천\", \"뭘 말하고 싶은건지 모르겠다\", \"연기가 좋았습니다\", \"너무 감동적이었어요\"] \n",
    "morphs = make_morphs_list(test_sentence)\n",
    "documents_index = convert_word_to_index(morphs, word_to_index)\n",
    "\n",
    "pred = model.predict((documents_index), verbose=0)\n",
    "pred_label = np.argmax(pred, 1)\n",
    "\n",
    "for i, s in enumerate(test_sentence):\n",
    "    if pred_label[i] == 0:\n",
    "        print(test_sentence[i], \"- 부정 리뷰입니다.\")\n",
    "    else:\n",
    "        print(test_sentence[i], \"- 긍정 리뷰입니다.\")"
   ]
  },
  {
   "cell_type": "markdown",
   "metadata": {},
   "source": [
    "<a id='AutoDL_사용방법'></a>\n",
    "## Modeler AutoDL 사용방법\n",
    "- 지금까지 영화 리뷰의 감정을 분류하는 TextCNN 모델 예제를 살펴보았습니다.\n",
    "- 이번 챕터에서는 위에서 살펴본 CNN 모델의 하이퍼파라미터를 AutoDL 기능을 사용해 최적화하는 과정에 대해 다룰 것입니다."
   ]
  }
 ],
 "metadata": {
  "kernelspec": {
   "display_name": "Python 3",
   "language": "python",
   "name": "python3"
  },
  "language_info": {
   "codemirror_mode": {
    "name": "ipython",
    "version": 3
   },
   "file_extension": ".py",
   "mimetype": "text/x-python",
   "name": "python",
   "nbconvert_exporter": "python",
   "pygments_lexer": "ipython3",
   "version": "3.6.9"
  }
 },
 "nbformat": 4,
 "nbformat_minor": 4
}
